{
 "cells": [
  {
   "cell_type": "markdown",
   "id": "7f9508e6",
   "metadata": {
    "pycharm": {
     "name": "#%% md\n"
    }
   },
   "source": [
    "# Exercise: Derivatives"
   ]
  },
  {
   "cell_type": "code",
   "execution_count": 1,
   "id": "04fafd2c",
   "metadata": {
    "pycharm": {
     "name": "#%%\n"
    }
   },
   "outputs": [],
   "source": [
    "import numpy as np\n",
    "import matplotlib.pyplot as plt"
   ]
  },
  {
   "cell_type": "markdown",
   "id": "1d7d137f",
   "metadata": {
    "pycharm": {
     "name": "#%% md\n"
    }
   },
   "source": [
    "### Load data"
   ]
  },
  {
   "cell_type": "code",
   "execution_count": 2,
   "id": "eeb0d15b",
   "metadata": {
    "pycharm": {
     "name": "#%%\n"
    }
   },
   "outputs": [],
   "source": [
    "data = np.loadtxt(\"04b_Exercise_velocity_acceleration_data_file.dat\")"
   ]
  },
  {
   "cell_type": "code",
   "execution_count": 3,
   "id": "c635be8b",
   "metadata": {
    "pycharm": {
     "name": "#%%\n"
    }
   },
   "outputs": [
    {
     "data": {
      "text/plain": [
       "array([[  0.        ,   1.        ],\n",
       "       [  0.1       ,   1.01980001],\n",
       "       [  0.2       ,   1.03920011],\n",
       "       ...,\n",
       "       [ 99.8       ,  15.25565932],\n",
       "       [ 99.9       ,  15.33160759],\n",
       "       [100.        ,  15.40808206]])"
      ]
     },
     "execution_count": 3,
     "metadata": {},
     "output_type": "execute_result"
    }
   ],
   "source": [
    "data"
   ]
  },
  {
   "cell_type": "code",
   "execution_count": 4,
   "id": "dc649d6e",
   "metadata": {
    "pycharm": {
     "name": "#%%\n"
    }
   },
   "outputs": [
    {
     "data": {
      "text/plain": [
       "<matplotlib.collections.PathCollection at 0x20632563880>"
      ]
     },
     "execution_count": 4,
     "metadata": {},
     "output_type": "execute_result"
    },
    {
     "data": {
      "image/png": "[encoded data removed]",
      "text/plain": [
       "<Figure size 432x288 with 1 Axes>"
      ]
     },
     "metadata": {
      "needs_background": "light"
     },
     "output_type": "display_data"
    }
   ],
   "source": [
    "plt.xlabel('Time t [s]')\n",
    "plt.ylabel('Coordinate x [m]')\n",
    "plt.scatter(data[:,0],data[:,1])"
   ]
  },
  {
   "cell_type": "markdown",
   "id": "eb7db420",
   "metadata": {
    "pycharm": {
     "name": "#%% md\n"
    }
   },
   "source": [
    "### Task"
   ]
  },
  {
   "cell_type": "markdown",
   "id": "96ae330b",
   "metadata": {
    "pycharm": {
     "name": "#%% md\n"
    }
   },
   "source": [
    "Calculate the velocity \\\\(v(t)=\\dot{x}(t)\\\\) and the acceleration \\\\(a(t)=\\ddot{x}(t)\\\\) for the loaded data set that describes a set of points \\\\((t_i,x_i)\\\\) for \\\\(i=0,\\dots,1000\\\\).\n",
    "\n",
    "1. Calculate \\\\(v_i\\\\) and \\\\(a_i\\\\) using the forward-differences, central-differences and Richardson methods\n",
    "2. Determine the maximum value of the acceleration and the corresponding time.\n",
    "\n",
    "Be careful, now we do not know the function \\\\(x(t)\\\\) but only its values for specific points. You have to define the functions for the derivativesa bit differently."
   ]
  },
  {
   "cell_type": "markdown",
   "id": "c9c52bff",
   "metadata": {
    "pycharm": {
     "name": "#%% md\n"
    }
   },
   "source": [
    "### Solution"
   ]
  },
  {
   "cell_type": "code",
   "execution_count": 30,
   "id": "79f5edae",
   "metadata": {
    "pycharm": {
     "name": "#%%\n"
    }
   },
   "outputs": [
    {
     "data": {
      "text/plain": [
       "array([  0. ,   0.1,   0.2, ...,  99.8,  99.9, 100. ])"
      ]
     },
     "execution_count": 30,
     "metadata": {},
     "output_type": "execute_result"
    }
   ],
   "source": [
    "data[:,0]"
   ]
  },
  {
   "cell_type": "code",
   "execution_count": 6,
   "id": "249408a9",
   "metadata": {
    "pycharm": {
     "name": "#%%\n"
    }
   },
   "outputs": [],
   "source": [
    "def forward(data):\n",
    "    derive = np.zeros(len(data[:,1]))\n",
    "    # for equidistant data\n",
    "    # h = (data[1,0]-data[0,0])\n",
    "    # velocity[:-1] = (data[1:,1]-data[:-1,1]) / h\n",
    "    # general\n",
    "    derive[:-1] = (data[1:,1]-data[:-1,1]) / (data[1:,0]-data[:-1,0])\n",
    "    # last value use backwards method (or just set to second-last value)\n",
    "    derive[-1] = (data[-1,1]-data[-2,1]) / (data[-1,0]-data[-2,0])\n",
    "    return np.transpose([data[:,0],derive])"
   ]
  },
  {
   "cell_type": "code",
   "execution_count": 7,
   "id": "96f3fe3e",
   "metadata": {
    "pycharm": {
     "name": "#%%\n"
    }
   },
   "outputs": [],
   "source": [
    "velocityForward = forward(data)\n",
    "accelerationForward = forward(forward(data))"
   ]
  },
  {
   "cell_type": "code",
   "execution_count": 8,
   "id": "111e6b18",
   "metadata": {
    "pycharm": {
     "name": "#%%\n"
    }
   },
   "outputs": [],
   "source": [
    "def central(data):\n",
    "    derive = np.zeros(len(data[:,1]))\n",
    "    derive[1:-1] = (data[2:,1]-data[:-2,1]) / (data[2:,0]-data[:-2,0])\n",
    "    # first value use forward method (or just set to second value)\n",
    "    derive[0] = (data[1,1]-data[0,1]) / (data[1,0]-data[0,0])\n",
    "    # last value use backward method (or just set to second-last value)\n",
    "    derive[-1] = (data[-1,1]-data[-2,1]) / (data[-1,0]-data[-2,0])\n",
    "    return np.transpose([data[:,0],derive])"
   ]
  },
  {
   "cell_type": "code",
   "execution_count": 9,
   "id": "7160272e",
   "metadata": {
    "pycharm": {
     "name": "#%%\n"
    }
   },
   "outputs": [],
   "source": [
    "velocityCentral = central(data)\n",
    "accelerationCentral = central(central(data))"
   ]
  },
  {
   "cell_type": "code",
   "execution_count": 10,
   "id": "99c0a289",
   "metadata": {
    "pycharm": {
     "name": "#%%\n"
    }
   },
   "outputs": [],
   "source": [
    "def Richardson(data):\n",
    "    derive = np.zeros(len(data[:,1]))\n",
    "    derive[2:-2] = (-data[4:,1]+8*data[3:-1,1]-8*data[1:-3,1]+data[:-4,1]) / (12*(data[3:-1,0]-data[2:-2,0]))\n",
    "    # first values \n",
    "    derive[0] = (data[1,1]-data[0,1]) / (data[1,0]-data[0,0])\n",
    "    derive[1] = (data[2,1]-data[0,1]) / (data[2,0]-data[0,0])\n",
    "    # last values \n",
    "    derive[-2] = (data[-1,1]-data[-3,1]) / (data[-1,0]-data[-3,0])\n",
    "    derive[-1] = (data[-1,1]-data[-2,1]) / (data[-1,0]-data[-2,0])\n",
    "    return np.transpose([data[:,0],derive])"
   ]
  },
  {
   "cell_type": "code",
   "execution_count": 11,
   "id": "de934efa",
   "metadata": {
    "pycharm": {
     "name": "#%%\n"
    }
   },
   "outputs": [],
   "source": [
    "velocityRichardson = Richardson(data)\n",
    "accelerationRichardson = Richardson(Richardson(data))"
   ]
  },
  {
   "cell_type": "code",
   "execution_count": 12,
   "id": "a88a9a53",
   "metadata": {
    "pycharm": {
     "name": "#%%\n"
    }
   },
   "outputs": [
    {
     "data": {
      "image/png": "[encoded data removed]",
      "text/plain": [
       "<Figure size 432x288 with 1 Axes>"
      ]
     },
     "metadata": {
      "needs_background": "light"
     },
     "output_type": "display_data"
    },
    {
     "data": {
      "image/png": "[encoded data removed]",
      "text/plain": [
       "<Figure size 432x288 with 1 Axes>"
      ]
     },
     "metadata": {
      "needs_background": "light"
     },
     "output_type": "display_data"
    }
   ],
   "source": [
    "plt.xlabel('Time t [s]')\n",
    "plt.ylabel('Velocity v [m/s]')\n",
    "plt.scatter(velocityForward[:,0],velocityForward[:,1])\n",
    "plt.scatter(velocityCentral[:,0],velocityCentral[:,1])\n",
    "plt.scatter(velocityRichardson[:,0],velocityRichardson[:,1])\n",
    "plt.show()\n",
    "\n",
    "plt.xlabel('Time t [s]')\n",
    "plt.ylabel('Acceleration a [m/s$^2$]')\n",
    "plt.scatter(accelerationForward[:,0],accelerationForward[:,1])\n",
    "plt.scatter(accelerationCentral[:,0],accelerationCentral[:,1])\n",
    "plt.scatter(accelerationRichardson[:,0],accelerationRichardson[:,1])\n",
    "plt.show()"
   ]
  },
  {
   "cell_type": "markdown",
   "id": "d0cdf237",
   "metadata": {
    "pycharm": {
     "name": "#%% md\n"
    }
   },
   "source": [
    "_- Without the inaccurate points_"
   ]
  },
  {
   "cell_type": "code",
   "execution_count": 13,
   "id": "7b79d2be",
   "metadata": {
    "pycharm": {
     "name": "#%%\n"
    }
   },
   "outputs": [
    {
     "data": {
      "image/png": "[encoded data removed]",
      "text/plain": [
       "<Figure size 432x288 with 1 Axes>"
      ]
     },
     "metadata": {
      "needs_background": "light"
     },
     "output_type": "display_data"
    },
    {
     "data": {
      "image/png": "[encoded data removed]",
      "text/plain": [
       "<Figure size 432x288 with 1 Axes>"
      ]
     },
     "metadata": {
      "needs_background": "light"
     },
     "output_type": "display_data"
    }
   ],
   "source": [
    "plt.xlabel('Time t [s]')\n",
    "plt.ylabel('Velocity v [m/s]')\n",
    "plt.scatter(velocityForward[2:-2,0],velocityForward[2:-2,1])\n",
    "plt.scatter(velocityCentral[2:-2,0],velocityCentral[2:-2,1])\n",
    "plt.scatter(velocityRichardson[2:-2,0],velocityRichardson[2:-2,1])\n",
    "plt.show()\n",
    "\n",
    "plt.xlabel('Time t [s]')\n",
    "plt.ylabel('Acceleration a [m/s$^2$]')\n",
    "plt.scatter(accelerationForward[4:-4,0],accelerationForward[4:-4,1])\n",
    "plt.scatter(accelerationCentral[4:-4,0],accelerationCentral[4:-4,1])\n",
    "plt.scatter(accelerationRichardson[4:-4,0],accelerationRichardson[4:-4,1])\n",
    "plt.show()"
   ]
  },
  {
   "cell_type": "markdown",
   "id": "47362f76",
   "metadata": {
    "pycharm": {
     "name": "#%% md\n"
    }
   },
   "source": [
    "### How the data was generated"
   ]
  },
  {
   "cell_type": "markdown",
   "id": "144954b1",
   "metadata": {
    "pycharm": {
     "name": "#%% md\n"
    }
   },
   "source": [
    "- Position\n",
    "\\\\(\n",
    "x(t) = \\cos(at)+bt^5+ct^4+dt\n",
    "\\\\)\n",
    "\n",
    "\n",
    "- Parameters\n",
    "\\\\(\n",
    "a = 0.2\\,\\frac{1}{\\mathrm{s}}\\\\\n",
    "b = 0.95\\times 10^{-8}\\,\\mathrm{m}\\\\\n",
    "c = -10^{-6}\\,\\mathrm{m}\\\\\n",
    "d = 0.2\\,\\mathrm{m}\n",
    "\\\\)"
   ]
  },
  {
   "cell_type": "code",
   "execution_count": 14,
   "id": "1af30137",
   "metadata": {
    "pycharm": {
     "name": "#%%\n"
    }
   },
   "outputs": [
    {
     "data": {
      "text/plain": [
       "<matplotlib.collections.PathCollection at 0x2063287a340>"
      ]
     },
     "execution_count": 14,
     "metadata": {},
     "output_type": "execute_result"
    },
    {
     "data": {
      "image/png": "[encoded data removed]",
      "text/plain": [
       "<Figure size 432x288 with 1 Axes>"
      ]
     },
     "metadata": {
      "needs_background": "light"
     },
     "output_type": "display_data"
    }
   ],
   "source": [
    "a = 0.2\n",
    "b = 0.95e-8\n",
    "c = -1e-6\n",
    "d = 0.2\n",
    "\n",
    "def position(t):\n",
    "    return np.cos(a*t) + b*t**5 + c*t**4 + d*t\n",
    "\n",
    "tList = np.linspace(0,100,1001)\n",
    "xList = position(tList)\n",
    "\n",
    "plt.xlabel('Time t [s]')\n",
    "plt.ylabel('Coordinate x [m]')\n",
    "plt.scatter(tList,xList)"
   ]
  },
  {
   "cell_type": "code",
   "execution_count": 15,
   "id": "a4aca004",
   "metadata": {
    "pycharm": {
     "name": "#%%\n"
    }
   },
   "outputs": [],
   "source": [
    "data = np.transpose([tList,xList])"
   ]
  },
  {
   "cell_type": "code",
   "execution_count": 16,
   "id": "5ea97250",
   "metadata": {
    "pycharm": {
     "name": "#%%\n"
    }
   },
   "outputs": [
    {
     "data": {
      "text/plain": [
       "array([[  0.        ,   1.        ],\n",
       "       [  0.1       ,   1.01980001],\n",
       "       [  0.2       ,   1.03920011],\n",
       "       ...,\n",
       "       [ 99.8       ,  15.25565932],\n",
       "       [ 99.9       ,  15.33160759],\n",
       "       [100.        ,  15.40808206]])"
      ]
     },
     "execution_count": 16,
     "metadata": {},
     "output_type": "execute_result"
    }
   ],
   "source": [
    "data"
   ]
  },
  {
   "cell_type": "code",
   "execution_count": 17,
   "id": "9d5a1447",
   "metadata": {
    "pycharm": {
     "name": "#%%\n"
    }
   },
   "outputs": [],
   "source": [
    "np.savetxt(\"04b_Exercise_velocity_acceleration_data_file.dat\", data, fmt=\"%s\")"
   ]
  },
  {
   "cell_type": "markdown",
   "id": "0a930e53",
   "metadata": {
    "pycharm": {
     "name": "#%% md\n"
    }
   },
   "source": [
    "### Compare with analytical solution\n",
    "\n",
    "- velocity & acceleration\n",
    "\\\\(\n",
    "v(t)=\\dot{x}(t) = -a\\sin(at) + 5bt^4+4ct^3+d\\\\\n",
    "a(t)=\\ddot{x}(t) = -a^2\\cos(at) + 20bt^3+12ct^2\n",
    "\\\\)\n"
   ]
  },
  {
   "cell_type": "code",
   "execution_count": 18,
   "id": "bb75ef65",
   "metadata": {
    "pycharm": {
     "name": "#%%\n"
    }
   },
   "outputs": [],
   "source": [
    "def velocity(t):\n",
    "    return -a*np.sin(a*t) + 5*b*t**4 +4*c*t**3 + d\n",
    "\n",
    "def acceleration(t):\n",
    "    return -a**2*np.cos(a*t) + 20*b*t**3 +12*c*t**2"
   ]
  },
  {
   "cell_type": "code",
   "execution_count": 19,
   "id": "1b1c57a0",
   "metadata": {
    "scrolled": false,
    "pycharm": {
     "name": "#%%\n"
    }
   },
   "outputs": [
    {
     "data": {
      "image/png": "[encoded data removed]",
      "text/plain": [
       "<Figure size 432x288 with 1 Axes>"
      ]
     },
     "metadata": {
      "needs_background": "light"
     },
     "output_type": "display_data"
    },
    {
     "data": {
      "image/png": "[encoded data removed]",
      "text/plain": [
       "<Figure size 432x288 with 1 Axes>"
      ]
     },
     "metadata": {
      "needs_background": "light"
     },
     "output_type": "display_data"
    }
   ],
   "source": [
    "tList = np.linspace(0,100,1001)\n",
    "vList = velocity(tList)\n",
    "aList = acceleration(tList)\n",
    "\n",
    "plt.xlabel('Time t [s]')\n",
    "plt.ylabel('Velocity v [m/s]')\n",
    "plt.scatter(tList,vList)\n",
    "plt.show()\n",
    "\n",
    "plt.xlabel('Time t [s]')\n",
    "plt.ylabel('Acceleration a [m/s$^2$]')\n",
    "plt.scatter(tList,aList)\n",
    "plt.show()"
   ]
  },
  {
   "cell_type": "markdown",
   "id": "dd6b3255",
   "metadata": {
    "pycharm": {
     "name": "#%% md\n"
    }
   },
   "source": [
    "_- Error_"
   ]
  },
  {
   "cell_type": "code",
   "execution_count": 20,
   "id": "f243366a",
   "metadata": {
    "pycharm": {
     "name": "#%%\n"
    }
   },
   "outputs": [
    {
     "data": {
      "image/png": "[encoded data removed]",
      "text/plain": [
       "<Figure size 432x288 with 1 Axes>"
      ]
     },
     "metadata": {
      "needs_background": "light"
     },
     "output_type": "display_data"
    },
    {
     "data": {
      "image/png": "[encoded data removed]",
      "text/plain": [
       "<Figure size 432x288 with 1 Axes>"
      ]
     },
     "metadata": {
      "needs_background": "light"
     },
     "output_type": "display_data"
    }
   ],
   "source": [
    "plt.xlabel('Time t [s]')\n",
    "plt.ylabel('$\\Delta v$ [m/s]')\n",
    "plt.plot(tList[2:-2],velocityForward[2:-2,1]-vList[2:-2],'blue')\n",
    "plt.plot(tList[2:-2],velocityCentral[2:-2,1]-vList[2:-2],'red')\n",
    "plt.plot(tList[2:-2],velocityRichardson[2:-2,1]-vList[2:-2],'green')\n",
    "plt.show()\n",
    "\n",
    "plt.xlabel('Time t [s]')\n",
    "plt.ylabel('$\\Delta a$ [m/s$^2$]')\n",
    "plt.plot(tList[4:-4],accelerationForward[4:-4,1]-aList[4:-4],'blue')\n",
    "plt.plot(tList[4:-4],accelerationCentral[4:-4,1]-aList[4:-4],'red')\n",
    "plt.plot(tList[4:-4],accelerationRichardson[4:-4,1]-aList[4:-4],'green')\n",
    "plt.show()"
   ]
  },
  {
   "cell_type": "markdown",
   "id": "d11c4a87",
   "metadata": {
    "pycharm": {
     "name": "#%% md\n"
    }
   },
   "source": [
    "_- Total error_\n",
    "\\\\( \\sum_i (v_n(t_i)-v_a(t_i))^2 \\\\)"
   ]
  },
  {
   "cell_type": "code",
   "execution_count": 21,
   "id": "5251bc1c",
   "metadata": {
    "pycharm": {
     "name": "#%%\n"
    }
   },
   "outputs": [
    {
     "name": "stdout",
     "output_type": "stream",
     "text": [
      "0.002427824988964186\n",
      "8.903209968415735e-08\n",
      "5.566204890981249e-16\n"
     ]
    }
   ],
   "source": [
    "print( sum((velocityForward[2:-2,1]-vList[2:-2])**2) )\n",
    "print( sum((velocityCentral[2:-2,1]-vList[2:-2])**2) )\n",
    "print( sum((velocityRichardson[2:-2,1]-vList[2:-2])**2) )"
   ]
  },
  {
   "cell_type": "markdown",
   "id": "1f539f08",
   "metadata": {
    "pycharm": {
     "name": "#%% md\n"
    }
   },
   "source": [
    "_- Total error_\n",
    "\\\\( \\sum_i (a_n(t_i)-a_a(t_i))^2 \\\\)"
   ]
  },
  {
   "cell_type": "code",
   "execution_count": 22,
   "id": "69dec4e1",
   "metadata": {
    "pycharm": {
     "name": "#%%\n"
    }
   },
   "outputs": [
    {
     "name": "stdout",
     "output_type": "stream",
     "text": [
      "0.00031896113294448787\n",
      "1.4528874612961403e-08\n",
      "9.195018806923526e-17\n"
     ]
    }
   ],
   "source": [
    "print( sum((accelerationForward[4:-4,1]-aList[4:-4])**2) )\n",
    "print( sum((accelerationCentral[4:-4,1]-aList[4:-4])**2) )\n",
    "print( sum((accelerationRichardson[4:-4,1]-aList[4:-4])**2) )"
   ]
  },
  {
   "cell_type": "markdown",
   "id": "7534a47d",
   "metadata": {
    "pycharm": {
     "name": "#%% md\n"
    }
   },
   "source": [
    "### Determine maximum acceleration"
   ]
  },
  {
   "cell_type": "code",
   "execution_count": 23,
   "id": "9c535653",
   "metadata": {
    "pycharm": {
     "name": "#%%\n"
    }
   },
   "outputs": [
    {
     "data": {
      "text/plain": [
       "array([[ 0.00000000e+00, -1.99954035e-02],\n",
       "       [ 1.00000000e-01, -2.99898219e-02],\n",
       "       [ 2.00000000e-01, -4.16368452e-02],\n",
       "       ...,\n",
       "       [ 9.98000000e+01,  5.39100475e-02],\n",
       "       [ 9.99000000e+01,  3.92904337e-02],\n",
       "       [ 1.00000000e+02,  2.63103838e-02]])"
      ]
     },
     "execution_count": 23,
     "metadata": {},
     "output_type": "execute_result"
    }
   ],
   "source": [
    "accelerationRichardson"
   ]
  },
  {
   "cell_type": "code",
   "execution_count": 24,
   "id": "fad17ccf",
   "metadata": {
    "pycharm": {
     "name": "#%%\n"
    }
   },
   "outputs": [],
   "source": [
    "accelerationMax = max( accelerationRichardson[:,1] )"
   ]
  },
  {
   "cell_type": "code",
   "execution_count": 25,
   "id": "cb2d6d01",
   "metadata": {
    "pycharm": {
     "name": "#%%\n"
    }
   },
   "outputs": [],
   "source": [
    "indexAccelerationMax = np.argmax( accelerationRichardson[:,1] )"
   ]
  },
  {
   "cell_type": "code",
   "execution_count": 26,
   "id": "4e51a6a5",
   "metadata": {
    "pycharm": {
     "name": "#%%\n"
    }
   },
   "outputs": [],
   "source": [
    "timeAccelerationMax = accelerationRichardson[indexAccelerationMax,0]"
   ]
  },
  {
   "cell_type": "code",
   "execution_count": 27,
   "id": "aca9cf3c",
   "metadata": {
    "pycharm": {
     "name": "#%%\n"
    }
   },
   "outputs": [
    {
     "name": "stdout",
     "output_type": "stream",
     "text": [
      "0.058898335802765\n",
      "796\n",
      "79.60000000000001\n"
     ]
    }
   ],
   "source": [
    "print(accelerationMax)\n",
    "print(indexAccelerationMax)\n",
    "print(timeAccelerationMax)"
   ]
  }
 ],
 "metadata": {
  "kernelspec": {
   "display_name": "Python 3 (ipykernel)",
   "language": "python",
   "name": "python3"
  },
  "language_info": {
   "codemirror_mode": {
    "name": "ipython",
    "version": 3
   },
   "file_extension": ".py",
   "mimetype": "text/x-python",
   "name": "python",
   "nbconvert_exporter": "python",
   "pygments_lexer": "ipython3",
   "version": "3.9.7"
  }
 },
 "nbformat": 4,
 "nbformat_minor": 5
}